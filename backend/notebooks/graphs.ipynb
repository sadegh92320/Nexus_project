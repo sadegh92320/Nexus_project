{
 "cells": [
  {
   "cell_type": "markdown",
   "id": "769c126c",
   "metadata": {},
   "source": [
    "## Graphs\n",
    "Testing different graph types in the backend - cites, citedby, recommendation"
   ]
  },
  {
   "cell_type": "markdown",
   "id": "15c2e00d",
   "metadata": {},
   "source": [
    "### CitedBy"
   ]
  },
  {
   "cell_type": "code",
   "execution_count": 5,
   "id": "32e6e7a8",
   "metadata": {},
   "outputs": [
    {
     "data": {
      "text/plain": [
       "'c:\\\\Users\\\\Parv\\\\Doc\\\\Nexus_project'"
      ]
     },
     "execution_count": 5,
     "metadata": {},
     "output_type": "execute_result"
    }
   ],
   "source": [
    "%pwd"
   ]
  },
  {
   "cell_type": "code",
   "execution_count": 13,
   "id": "61705a5b",
   "metadata": {},
   "outputs": [],
   "source": [
    "from backend.backend_function import search_for_papers, retrieve_paper, bulk_retrieve_papers, get_paper_pdf_urls\n",
    "from backend.semantic_scholar_requests import *"
   ]
  },
  {
   "cell_type": "code",
   "execution_count": 15,
   "id": "461628e4",
   "metadata": {},
   "outputs": [],
   "source": [
    "from backend.data_member import SemanticNode, Graph\n",
    "from backend.text_extraction import extract_pdf_text_from_url"
   ]
  },
  {
   "cell_type": "code",
   "execution_count": 16,
   "id": "9ba19ca8",
   "metadata": {},
   "outputs": [],
   "source": [
    "paper = search_for_papers('Coding over coupon collector channels')"
   ]
  },
  {
   "cell_type": "code",
   "execution_count": 18,
   "id": "78592d12",
   "metadata": {},
   "outputs": [],
   "source": [
    "paper = paper[0]\n",
    "paper_id = paper['paperId']"
   ]
  },
  {
   "cell_type": "code",
   "execution_count": null,
   "id": "b7ec1368",
   "metadata": {},
   "outputs": [],
   "source": [
    "\n",
    "citations = get_paper_citations_information(paper_id)\n",
    "\n",
    "# Get citations\n",
    "citation_ids = [i['paperId'] for i in citations['data']]\n",
    "\n",
    "reference_papers = bulk_retrieve_papers(\n",
    "    paper_ids=citation_ids)\n",
    "\n",
    "paper_objects = [paper] + reference_papers\n",
    "\n",
    "paper_urls = get_paper_pdf_urls(reference_papers)\n",
    "\n",
    "paper_objects = [i for i in paper_objects if i]\n",
    "\n",
    "nodes = [SemanticNode(i) for i in paper_objects]\n",
    "\n",
    "graph = Graph(\n",
    "    nodes=nodes, primary_node=nodes[0], search_query=\"Coding over cc channels\")\n",
    "\n",
    "if relevance_search:\n",
    "    pdf_urls = get_paper_pdf_urls(paper_objects=paper_objects)\n",
    "    fulltexts = [extract_pdf_text_from_url(i) for i in pdf_urls]\n",
    "    for i, j in zip(fulltexts, graph.nodes):\n",
    "        if i:\n",
    "            j.fullltext = i\n",
    "            j.has_fulltext = True\n",
    "\n",
    "    graph.weigh_nodes()\n",
    "else:\n",
    "    graph.randomly_weigh_nodes()\n",
    "\n",
    "return graph.get_json()"
   ]
  }
 ],
 "metadata": {
  "kernelspec": {
   "display_name": "pytorch_gpu",
   "language": "python",
   "name": "python3"
  },
  "language_info": {
   "codemirror_mode": {
    "name": "ipython",
    "version": 3
   },
   "file_extension": ".py",
   "mimetype": "text/x-python",
   "name": "python",
   "nbconvert_exporter": "python",
   "pygments_lexer": "ipython3",
   "version": "3.12.3"
  }
 },
 "nbformat": 4,
 "nbformat_minor": 5
}
